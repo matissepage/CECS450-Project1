{
 "cells": [
  {
   "cell_type": "code",
   "execution_count": null,
   "id": "1f729193",
   "metadata": {},
   "outputs": [],
   "source": [
    "#library to read csv files\n",
    "import csv\n",
    "#library to remove punctation from sting\n",
    "import re\n",
    "#library to open html\n",
    "import webbrowser\n",
    "#library to open localhost server\n",
    "import subprocess\n",
    "#library used to import stopwords (could write own set of stopwords)\n",
    "from wordcloud import STOPWORDS\n",
    "stopwords = set(STOPWORDS)\n",
    "total = dict()"
   ]
  },
  {
   "cell_type": "code",
   "execution_count": null,
   "id": "b5c283a4",
   "metadata": {},
   "outputs": [],
   "source": [
    "#creates a dictionary with the word and the word count; string:int\n",
    "def createHashMap():\n",
    "    with open(\"Shakespeare_data.csv\", newline=\"\") as csvfile:\n",
    "        reader = csv.reader(csvfile)\n",
    "        #loops over the first row to ignore headers\n",
    "        for row in reader:\n",
    "            break\n",
    "        #array of the index of columns that get looped over\n",
    "        #columns are [Dataline', 'Play', 'PlayerLinenumber', 'ActSceneLine', 'Player', 'PlayerLine']\n",
    "        included_cols = [5]\n",
    "        #loops over the rest of the rows\n",
    "        for row in reader:\n",
    "            #loops over the specified columns\n",
    "            for i in included_cols:\n",
    "                #if statement to ignore rows without spoken lines (stage instructions)\n",
    "                if len(row[3]) > 0:\n",
    "                    # enters block when the column being read is the spoken words\n",
    "                    if i == 5:\n",
    "                        # saves the spoken words to a string\n",
    "                        spokenWords = row[i]\n",
    "                        spokenWords = spokenWords.split(\" \")\n",
    "                        # iterates over the string of spoken words\n",
    "                        for p in spokenWords:\n",
    "                            # makes all words lowercase\n",
    "                            p = p.lower()\n",
    "                            # removes punctuation from string https://www.geeksforgeeks.org/python-remove-punctuation-from-string/\n",
    "                            res = re.sub(r\"[^\\w\\s]\", \"\", p)\n",
    "                            if res in total and res not in stopwords:\n",
    "                                # Increment count of word by 1\n",
    "                                total[res] = total[res] + 1\n",
    "                            elif res not in total and res not in stopwords:\n",
    "                                # Add the word to dictionary with count 1\n",
    "                                total[res] = 1"
   ]
  },
  {
   "cell_type": "code",
   "execution_count": null,
   "id": "e5636b89",
   "metadata": {},
   "outputs": [],
   "source": [
    "#function that creates a csv file with the specified word count; integer\n",
    "def createCSV(wordCount):\n",
    "        count = 0\n",
    "        #writes to a csv file\n",
    "        with open('shakespeare.csv', 'w') as f:\n",
    "            #first write to make column headers\n",
    "            f.write(\"x,value\\n\")\n",
    "            #goes over each line in the sorted dictionary and writes the line\n",
    "            for x in sortedDict:\n",
    "                #only writes as many words as specified\n",
    "                if count < wordCount:\n",
    "                    f.write(\"%s,%s\\n\"%(x[0],x[1]))\n",
    "                    count+=1"
   ]
  },
  {
   "cell_type": "code",
   "execution_count": null,
   "id": "cf9d1a6e",
   "metadata": {},
   "outputs": [],
   "source": [
    "createHashMap()\n",
    "#sorts the dict by the highest repeated word https://careerkarma.com/blog/python-sort-a-dictionary-by-value/\n",
    "sortedDict = sorted(total.items(), key=lambda x: x[1], reverse=True)\n",
    "#creates a subprocess that opens a localhost on default port 8000\n",
    "p = subprocess.Popen(['python3', '-m', 'http.server'])\n",
    "#sets user input to empty string\n",
    "userInput = \"\"\n",
    "#loops until the user inputs exit\n",
    "while userInput != \"exit\":\n",
    "    #takes the user input\n",
    "    userInput = input(\"Enter Word Count for Word Cloud or exit\\n\")\n",
    "    #checks if it is a digit\n",
    "    if userInput.isdigit():\n",
    "        #turns the string to int\n",
    "        wordCount = int(userInput)\n",
    "        print(\"Creating Word Cloud with \", wordCount, \" words\\n\")\n",
    "        #creates a csv with specified word count to be used in html file\n",
    "        createCSV(wordCount)\n",
    "        #opens the html file\n",
    "        webbrowser.open_new_tab('http://localhost:8000/Word%20Cloud.html')\n",
    "    #if the input is not a digit and not exit then tells user that input is not a number\n",
    "    elif userInput != \"exit\":\n",
    "        print(userInput,\"is not a number\\n\")\n",
    "#kills the subprocess after program exits\n",
    "p.kill()"
   ]
  }
 ],
 "metadata": {
  "kernelspec": {
   "display_name": "Python 3 (ipykernel)",
   "language": "python",
   "name": "python3"
  },
  "language_info": {
   "codemirror_mode": {
    "name": "ipython",
    "version": 3
   },
   "file_extension": ".py",
   "mimetype": "text/x-python",
   "name": "python",
   "nbconvert_exporter": "python",
   "pygments_lexer": "ipython3",
   "version": "3.9.12"
  }
 },
 "nbformat": 4,
 "nbformat_minor": 5
}
