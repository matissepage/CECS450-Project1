{
 "cells": [
  {
   "cell_type": "code",
   "execution_count": 1,
   "id": "1f729193",
   "metadata": {},
   "outputs": [],
   "source": [
    "import csv\n",
    "import re\n",
    "import webbrowser\n",
    "import subprocess\n",
    "from wordcloud import STOPWORDS\n",
    "stopwords = set(STOPWORDS)\n",
    "list_of_column_names = []\n",
    "total = dict()"
   ]
  },
  {
   "cell_type": "code",
   "execution_count": 2,
   "id": "b5c283a4",
   "metadata": {},
   "outputs": [],
   "source": [
    "def createHashMap():\n",
    "    with open(\"Shakespeare_data.csv\", newline=\"\") as csvfile:\n",
    "        reader = csv.reader(csvfile)\n",
    "        #loops over the first row and gets the column names\n",
    "        for row in reader:\n",
    "            list_of_column_names.append(row)\n",
    "            break\n",
    "        #array of the index of columns that get looped over\n",
    "        #columns are [Dataline', 'Play', 'PlayerLinenumber', 'ActSceneLine', 'Player', 'PlayerLine']\n",
    "        included_cols = [5]\n",
    "        for row in reader:\n",
    "            for i in included_cols:\n",
    "                if len(row[3]) > 0:\n",
    "                    # enters block when the column being read is the spoken words\n",
    "                    if i == 5:\n",
    "                        # array to hold the spoken words\n",
    "                        spokenWordsArray = []\n",
    "                        # saves the spoken words to a string\n",
    "                        spokenWords = row[i]\n",
    "                        spokenWords = spokenWords.split(\" \")\n",
    "                        # iterates over the string of spoken words\n",
    "                        for p in spokenWords:\n",
    "                            # makes all words lowercase\n",
    "                            p = p.lower()\n",
    "                            # removes punctuation from string https://www.geeksforgeeks.org/python-remove-punctuation-from-string/\n",
    "                            res = re.sub(r\"[^\\w\\s]\", \"\", p)\n",
    "                            # adds the lowercase and puctuationless word to the spokenWordsArray\n",
    "                            spokenWordsArray.append(res)\n",
    "                            if res in total and res not in stopwords:\n",
    "                                # Increment count of word by 1\n",
    "                                total[res] = total[res] + 1\n",
    "                            elif res not in total and res not in stopwords:\n",
    "                                # Add the word to dictionary with count 1\n",
    "                                total[res] = 1"
   ]
  },
  {
   "cell_type": "code",
   "execution_count": 3,
   "id": "e5636b89",
   "metadata": {},
   "outputs": [],
   "source": [
    "def createCSV(wordCount):\n",
    "        count = 0\n",
    "        #writes to a csv file\n",
    "        with open('shakespeare.csv', 'w') as f:\n",
    "            #first write to make column headers\n",
    "            f.write(\"x,value\\n\")\n",
    "            #goes over each line in the sorted dictionary and writes the line\n",
    "            for x in sortedDict:\n",
    "                #only writes as many words as specified\n",
    "                if count < wordCount:\n",
    "                    f.write(\"%s,%s\\n\"%(x[0],x[1]))\n",
    "                    count+=1"
   ]
  },
  {
   "cell_type": "code",
   "execution_count": null,
   "id": "cf9d1a6e",
   "metadata": {},
   "outputs": [
    {
     "name": "stdout",
     "output_type": "stream",
     "text": [
      "Enter Word Count for Word Cloud or exit\n",
      "1\n",
      "Creating CSV with  1  words\n",
      "Enter Word Count for Word Cloud or exit\n",
      "100\n",
      "Creating CSV with  100  words\n"
     ]
    }
   ],
   "source": [
    "createHashMap()\n",
    "#sorts the dict by the highest repeated word https://careerkarma.com/blog/python-sort-a-dictionary-by-value/\n",
    "sortedDict = sorted(total.items(), key=lambda x: x[1], reverse=True)\n",
    "#sets user input to empty string\n",
    "userInput = \"\"\n",
    "while userInput != \"exit\":\n",
    "    userInput = input(\"Enter Word Count for Word Cloud or exit\\n\")\n",
    "    if userInput.isdigit():\n",
    "        wordCount = int(userInput)\n",
    "        print(\"Creating CSV with \", wordCount, \" words\")\n",
    "        createCSV(wordCount)\n",
    "        subprocess.Popen(['python3', '-m', 'http.server'])\n",
    "        webbrowser.open_new_tab('http://localhost:8000/Word%20Cloud.html')\n",
    "    elif userInput != \"exit\":\n",
    "        print(userInput,\"is not a number\")"
   ]
  }
 ],
 "metadata": {
  "kernelspec": {
   "display_name": "Python 3 (ipykernel)",
   "language": "python",
   "name": "python3"
  },
  "language_info": {
   "codemirror_mode": {
    "name": "ipython",
    "version": 3
   },
   "file_extension": ".py",
   "mimetype": "text/x-python",
   "name": "python",
   "nbconvert_exporter": "python",
   "pygments_lexer": "ipython3",
   "version": "3.9.12"
  }
 },
 "nbformat": 4,
 "nbformat_minor": 5
}
