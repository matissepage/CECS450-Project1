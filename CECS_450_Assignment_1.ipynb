{
 "cells": [
  {
   "cell_type": "code",
   "execution_count": 30,
   "metadata": {},
   "outputs": [],
   "source": [
    "import csv\n",
    "import re\n",
    "from wordcloud import WordCloud, STOPWORDS\n",
    "import matplotlib.pyplot as plt\n",
    "import pandas as pd\n",
    "import numpy as np\n",
    "from PIL import Image\n",
    "from ipywidgets import widgets, interact, interactive, fixed"
   ]
  },
  {
   "cell_type": "code",
   "execution_count": 31,
   "metadata": {},
   "outputs": [],
   "source": [
    "stopwords = set(STOPWORDS)\n",
    "total = dict()\n",
    "RomeoAndJuliet = dict()\n",
    "Hamlet = dict()\n",
    "Macbeth = dict()\n",
    "TamingOfTheShrew = dict()\n",
    "JuliusCaesar = dict()"
   ]
  },
  {
   "cell_type": "code",
   "execution_count": 32,
   "metadata": {},
   "outputs": [],
   "source": [
    "def createHashMap():\n",
    "    with open(\"Shakespeare_data.csv\", newline=\"\") as csvfile:\n",
    "        reader = csv.reader(csvfile)\n",
    "        #loops over the first row and gets the column names\n",
    "        for row in reader:\n",
    "            break\n",
    "        #array of the index of columns that get looped over\n",
    "        #columns are [Dataline', 'Play', 'PlayerLinenumber', 'ActSceneLine', 'Player', 'PlayerLine']\n",
    "        included_cols = [5]\n",
    "        for row in reader:\n",
    "            #all of the data for one row is appended to this array\n",
    "            rowData = []\n",
    "            for i in included_cols:\n",
    "                if len(row[3]) > 0:\n",
    "                    if i == 5:\n",
    "                        # array to hold the spoken words\n",
    "                        spokenWordsArray = []\n",
    "                        # saves the spoken words to a string\n",
    "                        spokenWords = row[i]\n",
    "                        spokenWords = spokenWords.split(\" \")\n",
    "                        # iterates over the string of spoken words\n",
    "                        for p in spokenWords:\n",
    "                            # makes all words lowercase\n",
    "                            p = p.lower()\n",
    "                            # removes punctuation from string https://www.geeksforgeeks.org/python-remove-punctuation-from-string/\n",
    "                            res = re.sub(r\"[^\\w\\s]\", \"\", p)\n",
    "                            # adds the lowercase and puctuationless word to the spokenWordsArray\n",
    "                            spokenWordsArray.append(res)\n",
    "                            addWordToHashMaps(res, row[1])\n",
    "                        # adds the edited spoken words to the rowData\n",
    "                        rowData.append(spokenWordsArray)\n",
    "            # appends the entire row as long as its not empty\n",
    "            if len(rowData) > 0:\n",
    "                data.append(rowData)"
   ]
  },
  {
   "cell_type": "code",
   "execution_count": 33,
   "metadata": {},
   "outputs": [],
   "source": [
    "def addWordToHashMaps(word,bookName):\n",
    "    if word not in stopwords:\n",
    "        if word in total:\n",
    "            total[word] = total[word] + 1\n",
    "        elif word not in total:\n",
    "            total[word] = 1\n",
    "\n",
    "        if bookName == \"Romeo and Juliet\":\n",
    "            if word in RomeoAndJuliet:\n",
    "                RomeoAndJuliet[word] = RomeoAndJuliet[word] + 1\n",
    "            elif word not in RomeoAndJuliet:\n",
    "                RomeoAndJuliet[word] = 1\n",
    "        if bookName == \"Hamlet\":\n",
    "            if word in Hamlet:\n",
    "                Hamlet[word] = Hamlet[word] + 1\n",
    "            elif word not in Hamlet:\n",
    "                Hamlet[word] = 1\n",
    "        \n",
    "        if bookName == \"macbeth\":\n",
    "            if word in Macbeth:\n",
    "                Macbeth[word] = Macbeth[word] + 1\n",
    "            elif word not in Macbeth:\n",
    "                Macbeth[word] = 1\n",
    "        \n",
    "        if bookName == \"Taming of the Shrew\":\n",
    "            if word in TamingOfTheShrew:\n",
    "                TamingOfTheShrew[word] = TamingOfTheShrew[word] + 1\n",
    "            elif word not in TamingOfTheShrew:\n",
    "                TamingOfTheShrew[word] = 1\n",
    "\n",
    "        if bookName == \"Julius Caesar\":\n",
    "            if word in JuliusCaesar:\n",
    "                JuliusCaesar[word] = JuliusCaesar[word] + 1\n",
    "            elif word not in JuliusCaesar:\n",
    "                JuliusCaesar[word] = 1\n",
    "\n"
   ]
  },
  {
   "cell_type": "code",
   "execution_count": 34,
   "metadata": {},
   "outputs": [],
   "source": [
    "createHashMap()\n",
    "dictList = {\"All Books\":total,\"Romeo and Juliet\":RomeoAndJuliet, \"Hamlet\":Hamlet, \"macbeth\":Macbeth, \"Taming of the Shrew\":TamingOfTheShrew, \"Julius Caesar\" : JuliusCaesar}"
   ]
  },
  {
   "cell_type": "code",
   "execution_count": 35,
   "metadata": {
    "scrolled": false
   },
   "outputs": [],
   "source": [
    "shakespeareMask = np.array(Image.open(\"william-shakespeare-black-silhouette.jpg\"))"
   ]
  },
  {
   "cell_type": "code",
   "execution_count": 36,
   "metadata": {},
   "outputs": [],
   "source": [
    "def createWordCloud(maximum,atitle,book):\n",
    "    if(len(book) > 0):\n",
    "        wordcloud = WordCloud(width = 1920, height = 1080, background_color ='black', max_words = maximum, min_font_size = 10,mask = shakespeareMask).generate_from_frequencies(book)\n",
    "        plt.title(atitle, fontsize=40)#,fontweight=\"bold\")\n",
    "        plt.imshow(wordcloud, interpolation=\"bilinear\")\n",
    "        plt.axis(\"off\")\n",
    "        plt.show()"
   ]
  },
  {
   "cell_type": "code",
   "execution_count": 37,
   "metadata": {
    "scrolled": false
   },
   "outputs": [
    {
     "data": {
      "application/vnd.jupyter.widget-view+json": {
       "model_id": "29b57722dcff418ab8021e6726438329",
       "version_major": 2,
       "version_minor": 0
      },
      "text/plain": [
       "interactive(children=(Dropdown(description='maximum', options=(200, 100, 75, 50), value=200), Dropdown(descrip…"
      ]
     },
     "metadata": {},
     "output_type": "display_data"
    },
    {
     "data": {
      "text/plain": [
       "<function __main__.createWordCloud(maximum, atitle, book)>"
      ]
     },
     "execution_count": 37,
     "metadata": {},
     "output_type": "execute_result"
    }
   ],
   "source": [
    "interact(createWordCloud,book = dictList,maximum=[200,100,75,50],atitle = fixed('Most Used Words'))"
   ]
  },
  {
   "cell_type": "code",
   "execution_count": null,
   "metadata": {},
   "outputs": [],
   "source": []
  }
 ],
 "metadata": {
  "kernelspec": {
   "display_name": "Python 3 (ipykernel)",
   "language": "python",
   "name": "python3"
  },
  "language_info": {
   "codemirror_mode": {
    "name": "ipython",
    "version": 3
   },
   "file_extension": ".py",
   "mimetype": "text/x-python",
   "name": "python",
   "nbconvert_exporter": "python",
   "pygments_lexer": "ipython3",
   "version": "3.9.12"
  }
 },
 "nbformat": 4,
 "nbformat_minor": 4
}
