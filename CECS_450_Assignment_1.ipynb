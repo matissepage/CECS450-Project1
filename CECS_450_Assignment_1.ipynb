{
  "metadata": {
    "language_info": {
      "codemirror_mode": {
        "name": "python",
        "version": 3
      },
      "file_extension": ".py",
      "mimetype": "text/x-python",
      "name": "python",
      "nbconvert_exporter": "python",
      "pygments_lexer": "ipython3",
      "version": "3.8"
    },
    "kernelspec": {
      "name": "python",
      "display_name": "Python (Pyodide)",
      "language": "python"
    }
  },
  "nbformat_minor": 4,
  "nbformat": 4,
  "cells": [
    {
      "cell_type": "code",
      "source": "import csv\nimport re\nfrom wordcloud import WordCloud, STOPWORDS\nimport matplotlib.pyplot as plt\nimport pandas as pd\nimport numpy as np\nfrom PIL import Image",
      "metadata": {
        "trusted": true
      },
      "execution_count": 2,
      "outputs": [
        {
          "ename": "<class 'ModuleNotFoundError'>",
          "evalue": "No module named 'wordcloud'",
          "traceback": [
            "\u001b[0;31m---------------------------------------------------------------------------\u001b[0m",
            "\u001b[0;31mModuleNotFoundError\u001b[0m                       Traceback (most recent call last)",
            "Cell \u001b[0;32mIn [2], line 3\u001b[0m\n\u001b[1;32m      1\u001b[0m \u001b[38;5;28;01mimport\u001b[39;00m \u001b[38;5;21;01mcsv\u001b[39;00m\n\u001b[1;32m      2\u001b[0m \u001b[38;5;28;01mimport\u001b[39;00m \u001b[38;5;21;01mre\u001b[39;00m\n\u001b[0;32m----> 3\u001b[0m \u001b[38;5;28;01mfrom\u001b[39;00m \u001b[38;5;21;01mwordcloud\u001b[39;00m \u001b[38;5;28;01mimport\u001b[39;00m WordCloud, STOPWORDS\n\u001b[1;32m      4\u001b[0m \u001b[38;5;28;01mimport\u001b[39;00m \u001b[38;5;21;01mmatplotlib\u001b[39;00m\u001b[38;5;21;01m.\u001b[39;00m\u001b[38;5;21;01mpyplot\u001b[39;00m \u001b[38;5;28;01mas\u001b[39;00m \u001b[38;5;21;01mplt\u001b[39;00m\n\u001b[1;32m      5\u001b[0m \u001b[38;5;28;01mimport\u001b[39;00m \u001b[38;5;21;01mpandas\u001b[39;00m \u001b[38;5;28;01mas\u001b[39;00m \u001b[38;5;21;01mpd\u001b[39;00m\n",
            "\u001b[0;31mModuleNotFoundError\u001b[0m: No module named 'wordcloud'"
          ],
          "output_type": "error"
        }
      ]
    },
    {
      "cell_type": "code",
      "source": "stopwords = set(STOPWORDS)\nlist_of_column_names = []\ndata = []\ntotal = dict()",
      "metadata": {
        "trusted": true
      },
      "execution_count": 3,
      "outputs": [
        {
          "ename": "<class 'NameError'>",
          "evalue": "name 'STOPWORDS' is not defined",
          "traceback": [
            "\u001b[0;31m---------------------------------------------------------------------------\u001b[0m",
            "\u001b[0;31mNameError\u001b[0m                                 Traceback (most recent call last)",
            "Cell \u001b[0;32mIn [3], line 1\u001b[0m\n\u001b[0;32m----> 1\u001b[0m stopwords \u001b[38;5;241m=\u001b[39m \u001b[38;5;28mset\u001b[39m(\u001b[43mSTOPWORDS\u001b[49m)\n\u001b[1;32m      2\u001b[0m list_of_column_names \u001b[38;5;241m=\u001b[39m []\n\u001b[1;32m      3\u001b[0m data \u001b[38;5;241m=\u001b[39m []\n",
            "\u001b[0;31mNameError\u001b[0m: name 'STOPWORDS' is not defined"
          ],
          "output_type": "error"
        }
      ]
    },
    {
      "cell_type": "code",
      "source": "def createHashMap():\n    with open(\"Shakespeare_data.csv\", newline=\"\") as csvfile:\n        reader = csv.reader(csvfile)\n        #loops over the first row and gets the column names\n        for row in reader:\n            list_of_column_names.append(row)\n            break\n        #array of the index of columns that get looped over\n        #columns are [Dataline', 'Play', 'PlayerLinenumber', 'ActSceneLine', 'Player', 'PlayerLine']\n        included_cols = [1,4,5]\n        for row in reader:\n            #all of the data for one row is appended to this array\n            rowData = []\n            for i in included_cols:\n                if len(row[3]) > 0:\n                    # enters block when the column being read is either the playName or characterName column\n                    if i == 1 or i == 4:\n                        rowData.append(row[i])\n                    # enters block when the column being read is the spoken words\n                    if i == 5:\n                        # array to hold the spoken words\n                        spokenWordsArray = []\n                        # saves the spoken words to a string\n                        spokenWords = row[i]\n                        spokenWords = spokenWords.split(\" \")\n                        # iterates over the string of spoken words\n                        for p in spokenWords:\n                            # makes all words lowercase\n                            p = p.lower()\n                            # removes punctuation from string https://www.geeksforgeeks.org/python-remove-punctuation-from-string/\n                            res = re.sub(r\"[^\\w\\s]\", \"\", p)\n                            # adds the lowercase and puctuationless word to the spokenWordsArray\n                            spokenWordsArray.append(res)\n                            if res in total and res not in stopwords:\n                                # Increment count of word by 1\n                                total[res] = total[res] + 1\n                            elif res not in total and res not in stopwords:\n                                # Add the word to dictionary with count 1\n                                total[res] = 1\n                        # adds the edited spoken words to the rowData\n                        rowData.append(spokenWordsArray)\n            # appends the entire row as long as its not empty\n            if len(rowData) > 0:\n                data.append(rowData)",
      "metadata": {
        "trusted": true
      },
      "execution_count": 4,
      "outputs": []
    },
    {
      "cell_type": "code",
      "source": "createHashMap()",
      "metadata": {
        "trusted": true
      },
      "execution_count": 5,
      "outputs": [
        {
          "ename": "<class 'FileNotFoundError'>",
          "evalue": "[Errno 44] No such file or directory: 'Shakespeare_data.csv'",
          "traceback": [
            "\u001b[0;31m---------------------------------------------------------------------------\u001b[0m",
            "\u001b[0;31mFileNotFoundError\u001b[0m                         Traceback (most recent call last)",
            "Cell \u001b[0;32mIn [5], line 1\u001b[0m\n\u001b[0;32m----> 1\u001b[0m \u001b[43mcreateHashMap\u001b[49m\u001b[43m(\u001b[49m\u001b[43m)\u001b[49m\n",
            "Cell \u001b[0;32mIn [4], line 2\u001b[0m, in \u001b[0;36mcreateHashMap\u001b[0;34m()\u001b[0m\n\u001b[1;32m      1\u001b[0m \u001b[38;5;28;01mdef\u001b[39;00m \u001b[38;5;21mcreateHashMap\u001b[39m():\n\u001b[0;32m----> 2\u001b[0m     \u001b[38;5;28;01mwith\u001b[39;00m \u001b[38;5;28;43mopen\u001b[39;49m\u001b[43m(\u001b[49m\u001b[38;5;124;43m\"\u001b[39;49m\u001b[38;5;124;43mShakespeare_data.csv\u001b[39;49m\u001b[38;5;124;43m\"\u001b[39;49m\u001b[43m,\u001b[49m\u001b[43m \u001b[49m\u001b[43mnewline\u001b[49m\u001b[38;5;241;43m=\u001b[39;49m\u001b[38;5;124;43m\"\u001b[39;49m\u001b[38;5;124;43m\"\u001b[39;49m\u001b[43m)\u001b[49m \u001b[38;5;28;01mas\u001b[39;00m csvfile:\n\u001b[1;32m      3\u001b[0m         reader \u001b[38;5;241m=\u001b[39m csv\u001b[38;5;241m.\u001b[39mreader(csvfile)\n\u001b[1;32m      4\u001b[0m         \u001b[38;5;66;03m#loops over the first row and gets the column names\u001b[39;00m\n",
            "\u001b[0;31mFileNotFoundError\u001b[0m: [Errno 44] No such file or directory: 'Shakespeare_data.csv'"
          ],
          "output_type": "error"
        }
      ]
    },
    {
      "cell_type": "code",
      "source": "shakespeareMask = np.array(Image.open(\"william-shakespeare-black-silhouette.jpg\"))\n#sorts the dict by the highest repeated word https://careerkarma.com/blog/python-sort-a-dictionary-by-value/\nsortedDict = sorted(total.items(), key=lambda x: x[1], reverse=True)\n#print(sortedDict)\n#generates a wordcloud from the dict\n#wordcloud = WordCloud(width = 1920, height = 1080, background_color ='black', min_font_size = 10,mask = shakespeareMask).generate_from_frequencies(total)\nmax_words = input(\"Enter total Words for Wordcloud\\n\");\nmax_words = int(max_words)\nwordcloud = WordCloud(width = 1920, height = 1080, background_color ='black', max_words = max_words, min_font_size = 10,mask = shakespeareMask).generate_from_frequencies(total)\nplt.imshow(wordcloud, interpolation=\"bilinear\")\nplt.axis(\"off\")\nplt.show()",
      "metadata": {
        "trusted": true
      },
      "execution_count": 6,
      "outputs": [
        {
          "ename": "<class 'NameError'>",
          "evalue": "name 'np' is not defined",
          "traceback": [
            "\u001b[0;31m---------------------------------------------------------------------------\u001b[0m",
            "\u001b[0;31mNameError\u001b[0m                                 Traceback (most recent call last)",
            "Cell \u001b[0;32mIn [6], line 1\u001b[0m\n\u001b[0;32m----> 1\u001b[0m shakespeareMask \u001b[38;5;241m=\u001b[39m \u001b[43mnp\u001b[49m\u001b[38;5;241m.\u001b[39marray(Image\u001b[38;5;241m.\u001b[39mopen(\u001b[38;5;124m\"\u001b[39m\u001b[38;5;124mwilliam-shakespeare-black-silhouette.jpg\u001b[39m\u001b[38;5;124m\"\u001b[39m))\n\u001b[1;32m      2\u001b[0m \u001b[38;5;66;03m#sorts the dict by the highest repeated word https://careerkarma.com/blog/python-sort-a-dictionary-by-value/\u001b[39;00m\n\u001b[1;32m      3\u001b[0m sortedDict \u001b[38;5;241m=\u001b[39m \u001b[38;5;28msorted\u001b[39m(total\u001b[38;5;241m.\u001b[39mitems(), key\u001b[38;5;241m=\u001b[39m\u001b[38;5;28;01mlambda\u001b[39;00m x: x[\u001b[38;5;241m1\u001b[39m], reverse\u001b[38;5;241m=\u001b[39m\u001b[38;5;28;01mTrue\u001b[39;00m)\n",
            "\u001b[0;31mNameError\u001b[0m: name 'np' is not defined"
          ],
          "output_type": "error"
        }
      ]
    },
    {
      "cell_type": "code",
      "source": "",
      "metadata": {},
      "execution_count": null,
      "outputs": []
    }
  ]
}